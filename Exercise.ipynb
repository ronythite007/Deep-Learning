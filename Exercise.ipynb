{
 "cells": [
  {
   "cell_type": "markdown",
   "id": "5dad53e1-425d-4694-bd42-41242d7f20c6",
   "metadata": {},
   "source": [
    "## Exercise"
   ]
  },
  {
   "cell_type": "markdown",
   "id": "d95dd419-69ce-4cf0-84c7-6a48114c6155",
   "metadata": {},
   "source": [
    "\n",
    "Train a word2vec model on the Sports & Outdoors Reviews Dataset Once you train a model on this, find the words most similar to 'awful' and find similarities between the following word tuples: ('good', 'great'), ('slow','steady')"
   ]
  },
  {
   "cell_type": "code",
   "execution_count": 5,
   "id": "194c2d2e-6494-4425-b993-b6ac559175fa",
   "metadata": {},
   "outputs": [],
   "source": [
    "import pandas as pd\n",
    "import gensim"
   ]
  },
  {
   "cell_type": "code",
   "execution_count": 7,
   "id": "01f375dc-af6a-4003-b585-d2d122ec414f",
   "metadata": {},
   "outputs": [
    {
     "data": {
      "text/html": [
       "<div>\n",
       "<style scoped>\n",
       "    .dataframe tbody tr th:only-of-type {\n",
       "        vertical-align: middle;\n",
       "    }\n",
       "\n",
       "    .dataframe tbody tr th {\n",
       "        vertical-align: top;\n",
       "    }\n",
       "\n",
       "    .dataframe thead th {\n",
       "        text-align: right;\n",
       "    }\n",
       "</style>\n",
       "<table border=\"1\" class=\"dataframe\">\n",
       "  <thead>\n",
       "    <tr style=\"text-align: right;\">\n",
       "      <th></th>\n",
       "      <th>reviewerID</th>\n",
       "      <th>asin</th>\n",
       "      <th>reviewerName</th>\n",
       "      <th>helpful</th>\n",
       "      <th>reviewText</th>\n",
       "      <th>overall</th>\n",
       "      <th>summary</th>\n",
       "      <th>unixReviewTime</th>\n",
       "      <th>reviewTime</th>\n",
       "    </tr>\n",
       "  </thead>\n",
       "  <tbody>\n",
       "    <tr>\n",
       "      <th>0</th>\n",
       "      <td>AIXZKN4ACSKI</td>\n",
       "      <td>1881509818</td>\n",
       "      <td>David Briner</td>\n",
       "      <td>[0, 0]</td>\n",
       "      <td>This came in on time and I am veru happy with ...</td>\n",
       "      <td>5</td>\n",
       "      <td>Woks very good</td>\n",
       "      <td>1390694400</td>\n",
       "      <td>01 26, 2014</td>\n",
       "    </tr>\n",
       "    <tr>\n",
       "      <th>1</th>\n",
       "      <td>A1L5P841VIO02V</td>\n",
       "      <td>1881509818</td>\n",
       "      <td>Jason A. Kramer</td>\n",
       "      <td>[1, 1]</td>\n",
       "      <td>I had a factory Glock tool that I was using fo...</td>\n",
       "      <td>5</td>\n",
       "      <td>Works as well as the factory tool</td>\n",
       "      <td>1328140800</td>\n",
       "      <td>02 2, 2012</td>\n",
       "    </tr>\n",
       "    <tr>\n",
       "      <th>2</th>\n",
       "      <td>AB2W04NI4OEAD</td>\n",
       "      <td>1881509818</td>\n",
       "      <td>J. Fernald</td>\n",
       "      <td>[2, 2]</td>\n",
       "      <td>If you don't have a 3/32 punch or would like t...</td>\n",
       "      <td>4</td>\n",
       "      <td>It's a punch, that's all.</td>\n",
       "      <td>1330387200</td>\n",
       "      <td>02 28, 2012</td>\n",
       "    </tr>\n",
       "    <tr>\n",
       "      <th>3</th>\n",
       "      <td>A148SVSWKTJKU6</td>\n",
       "      <td>1881509818</td>\n",
       "      <td>Jusitn A. Watts \"Maverick9614\"</td>\n",
       "      <td>[0, 0]</td>\n",
       "      <td>This works no better than any 3/32 punch you w...</td>\n",
       "      <td>4</td>\n",
       "      <td>It's a punch with a Glock logo.</td>\n",
       "      <td>1328400000</td>\n",
       "      <td>02 5, 2012</td>\n",
       "    </tr>\n",
       "    <tr>\n",
       "      <th>4</th>\n",
       "      <td>AAAWJ6LW9WMOO</td>\n",
       "      <td>1881509818</td>\n",
       "      <td>Material Man</td>\n",
       "      <td>[0, 0]</td>\n",
       "      <td>I purchased this thinking maybe I need a speci...</td>\n",
       "      <td>4</td>\n",
       "      <td>Ok,tool does what a regular punch does.</td>\n",
       "      <td>1366675200</td>\n",
       "      <td>04 23, 2013</td>\n",
       "    </tr>\n",
       "    <tr>\n",
       "      <th>...</th>\n",
       "      <td>...</td>\n",
       "      <td>...</td>\n",
       "      <td>...</td>\n",
       "      <td>...</td>\n",
       "      <td>...</td>\n",
       "      <td>...</td>\n",
       "      <td>...</td>\n",
       "      <td>...</td>\n",
       "      <td>...</td>\n",
       "    </tr>\n",
       "    <tr>\n",
       "      <th>296332</th>\n",
       "      <td>A2XX2A4OJCDNLZ</td>\n",
       "      <td>B00LFPS0CY</td>\n",
       "      <td>RatherLiveInKeyWest</td>\n",
       "      <td>[2, 3]</td>\n",
       "      <td>This is a water bottle done right. It is a ver...</td>\n",
       "      <td>5</td>\n",
       "      <td>Hydracentials Sporty 25 Oz Stainless Steel Wat...</td>\n",
       "      <td>1405036800</td>\n",
       "      <td>07 11, 2014</td>\n",
       "    </tr>\n",
       "    <tr>\n",
       "      <th>296333</th>\n",
       "      <td>A3LGT6UZL99IW1</td>\n",
       "      <td>B00LFPS0CY</td>\n",
       "      <td>Richard C. Drew \"Anaal Nathra/Uthe vas Bethod...</td>\n",
       "      <td>[0, 0]</td>\n",
       "      <td>If you're looking for an insulated water bottl...</td>\n",
       "      <td>5</td>\n",
       "      <td>Large, incredibly well made water bottle!</td>\n",
       "      <td>1405641600</td>\n",
       "      <td>07 18, 2014</td>\n",
       "    </tr>\n",
       "    <tr>\n",
       "      <th>296334</th>\n",
       "      <td>ASKZO80Z1RKTR</td>\n",
       "      <td>B00LFPS0CY</td>\n",
       "      <td>Robin Lee</td>\n",
       "      <td>[0, 0]</td>\n",
       "      <td>This Hydracentials Sporty 25 OZ, double insula...</td>\n",
       "      <td>5</td>\n",
       "      <td>\"Great Water Bottle For Hot Day\"......</td>\n",
       "      <td>1405900800</td>\n",
       "      <td>07 21, 2014</td>\n",
       "    </tr>\n",
       "    <tr>\n",
       "      <th>296335</th>\n",
       "      <td>APRNS6DB68LLV</td>\n",
       "      <td>B00LFPS0CY</td>\n",
       "      <td>Rob Slaven \"slavenrm@gmail. com\"</td>\n",
       "      <td>[1, 1]</td>\n",
       "      <td>As usual I received this item free in exchange...</td>\n",
       "      <td>5</td>\n",
       "      <td>A pretty impressive water bottle.  Best I've s...</td>\n",
       "      <td>1405900800</td>\n",
       "      <td>07 21, 2014</td>\n",
       "    </tr>\n",
       "    <tr>\n",
       "      <th>296336</th>\n",
       "      <td>A3UJRNI8UR4871</td>\n",
       "      <td>B00LFPS0CY</td>\n",
       "      <td>Wulfstan \"wulfstan\"</td>\n",
       "      <td>[2, 2]</td>\n",
       "      <td>Hydracentials insulated 25 oz water bottle.Thi...</td>\n",
       "      <td>5</td>\n",
       "      <td>\"Cool\" Bottle!</td>\n",
       "      <td>1405382400</td>\n",
       "      <td>07 15, 2014</td>\n",
       "    </tr>\n",
       "  </tbody>\n",
       "</table>\n",
       "<p>296337 rows × 9 columns</p>\n",
       "</div>"
      ],
      "text/plain": [
       "            reviewerID        asin  \\\n",
       "0         AIXZKN4ACSKI  1881509818   \n",
       "1       A1L5P841VIO02V  1881509818   \n",
       "2        AB2W04NI4OEAD  1881509818   \n",
       "3       A148SVSWKTJKU6  1881509818   \n",
       "4        AAAWJ6LW9WMOO  1881509818   \n",
       "...                ...         ...   \n",
       "296332  A2XX2A4OJCDNLZ  B00LFPS0CY   \n",
       "296333  A3LGT6UZL99IW1  B00LFPS0CY   \n",
       "296334   ASKZO80Z1RKTR  B00LFPS0CY   \n",
       "296335   APRNS6DB68LLV  B00LFPS0CY   \n",
       "296336  A3UJRNI8UR4871  B00LFPS0CY   \n",
       "\n",
       "                                            reviewerName helpful  \\\n",
       "0                                           David Briner  [0, 0]   \n",
       "1                                        Jason A. Kramer  [1, 1]   \n",
       "2                                             J. Fernald  [2, 2]   \n",
       "3                         Jusitn A. Watts \"Maverick9614\"  [0, 0]   \n",
       "4                                           Material Man  [0, 0]   \n",
       "...                                                  ...     ...   \n",
       "296332                               RatherLiveInKeyWest  [2, 3]   \n",
       "296333  Richard C. Drew \"Anaal Nathra/Uthe vas Bethod...  [0, 0]   \n",
       "296334                                         Robin Lee  [0, 0]   \n",
       "296335                  Rob Slaven \"slavenrm@gmail. com\"  [1, 1]   \n",
       "296336                               Wulfstan \"wulfstan\"  [2, 2]   \n",
       "\n",
       "                                               reviewText  overall  \\\n",
       "0       This came in on time and I am veru happy with ...        5   \n",
       "1       I had a factory Glock tool that I was using fo...        5   \n",
       "2       If you don't have a 3/32 punch or would like t...        4   \n",
       "3       This works no better than any 3/32 punch you w...        4   \n",
       "4       I purchased this thinking maybe I need a speci...        4   \n",
       "...                                                   ...      ...   \n",
       "296332  This is a water bottle done right. It is a ver...        5   \n",
       "296333  If you're looking for an insulated water bottl...        5   \n",
       "296334  This Hydracentials Sporty 25 OZ, double insula...        5   \n",
       "296335  As usual I received this item free in exchange...        5   \n",
       "296336  Hydracentials insulated 25 oz water bottle.Thi...        5   \n",
       "\n",
       "                                                  summary  unixReviewTime  \\\n",
       "0                                          Woks very good      1390694400   \n",
       "1                       Works as well as the factory tool      1328140800   \n",
       "2                               It's a punch, that's all.      1330387200   \n",
       "3                         It's a punch with a Glock logo.      1328400000   \n",
       "4                 Ok,tool does what a regular punch does.      1366675200   \n",
       "...                                                   ...             ...   \n",
       "296332  Hydracentials Sporty 25 Oz Stainless Steel Wat...      1405036800   \n",
       "296333          Large, incredibly well made water bottle!      1405641600   \n",
       "296334             \"Great Water Bottle For Hot Day\"......      1405900800   \n",
       "296335  A pretty impressive water bottle.  Best I've s...      1405900800   \n",
       "296336                                     \"Cool\" Bottle!      1405382400   \n",
       "\n",
       "         reviewTime  \n",
       "0       01 26, 2014  \n",
       "1        02 2, 2012  \n",
       "2       02 28, 2012  \n",
       "3        02 5, 2012  \n",
       "4       04 23, 2013  \n",
       "...             ...  \n",
       "296332  07 11, 2014  \n",
       "296333  07 18, 2014  \n",
       "296334  07 21, 2014  \n",
       "296335  07 21, 2014  \n",
       "296336  07 15, 2014  \n",
       "\n",
       "[296337 rows x 9 columns]"
      ]
     },
     "execution_count": 7,
     "metadata": {},
     "output_type": "execute_result"
    }
   ],
   "source": [
    "df = pd.read_json(\"Sports_and_Outdoors_5.json\",lines=True)\n",
    "df"
   ]
  },
  {
   "cell_type": "code",
   "execution_count": 9,
   "id": "c3c84e68-074d-452d-b41e-96c32e054438",
   "metadata": {},
   "outputs": [
    {
     "data": {
      "text/plain": [
       "0         This came in on time and I am veru happy with ...\n",
       "1         I had a factory Glock tool that I was using fo...\n",
       "2         If you don't have a 3/32 punch or would like t...\n",
       "3         This works no better than any 3/32 punch you w...\n",
       "4         I purchased this thinking maybe I need a speci...\n",
       "                                ...                        \n",
       "296332    This is a water bottle done right. It is a ver...\n",
       "296333    If you're looking for an insulated water bottl...\n",
       "296334    This Hydracentials Sporty 25 OZ, double insula...\n",
       "296335    As usual I received this item free in exchange...\n",
       "296336    Hydracentials insulated 25 oz water bottle.Thi...\n",
       "Name: reviewText, Length: 296337, dtype: object"
      ]
     },
     "execution_count": 9,
     "metadata": {},
     "output_type": "execute_result"
    }
   ],
   "source": [
    "reviewText = df.reviewText\n",
    "reviewText"
   ]
  },
  {
   "cell_type": "code",
   "execution_count": 12,
   "id": "d2f51e92-0d79-44ad-bf63-c4386699d5fa",
   "metadata": {},
   "outputs": [
    {
     "data": {
      "text/plain": [
       "['hi', 'am', 'rohan']"
      ]
     },
     "execution_count": 12,
     "metadata": {},
     "output_type": "execute_result"
    }
   ],
   "source": [
    "gensim.utils.simple_preprocess(\"hi i am rohan\")"
   ]
  },
  {
   "cell_type": "code",
   "execution_count": 19,
   "id": "05516fbf-0960-45ed-94cc-5860cf71f77d",
   "metadata": {},
   "outputs": [
    {
     "data": {
      "text/plain": [
       "0         [this, came, in, on, time, and, am, veru, happ...\n",
       "1         [had, factory, glock, tool, that, was, using, ...\n",
       "2         [if, you, don, have, punch, or, would, like, t...\n",
       "3         [this, works, no, better, than, any, punch, yo...\n",
       "4         [purchased, this, thinking, maybe, need, speci...\n",
       "                                ...                        \n",
       "296332    [this, is, water, bottle, done, right, it, is,...\n",
       "296333    [if, you, re, looking, for, an, insulated, wat...\n",
       "296334    [this, hydracentials, sporty, oz, double, insu...\n",
       "296335    [as, usual, received, this, item, free, in, ex...\n",
       "296336    [hydracentials, insulated, oz, water, bottle, ...\n",
       "Name: reviewText, Length: 296337, dtype: object"
      ]
     },
     "execution_count": 19,
     "metadata": {},
     "output_type": "execute_result"
    }
   ],
   "source": [
    "reviewText= df.reviewText.apply(gensim.utils.simple_preprocess)\n",
    "reviewText"
   ]
  },
  {
   "cell_type": "code",
   "execution_count": 20,
   "id": "0cf1b304-e81e-4277-a7b2-5ef26f11bd8b",
   "metadata": {},
   "outputs": [],
   "source": [
    "model = gensim.models.Word2Vec(\n",
    "    window=10,\n",
    "    min_count=2,\n",
    "    workers=4,\n",
    ")"
   ]
  },
  {
   "cell_type": "code",
   "execution_count": 21,
   "id": "f9f6c62f-68a9-4195-b826-996bf1a196cf",
   "metadata": {},
   "outputs": [],
   "source": [
    "model.build_vocab(reviewText, progress_per=1000)"
   ]
  },
  {
   "cell_type": "code",
   "execution_count": 22,
   "id": "a0bf4d66-f647-4e78-80a1-3ab413cf885f",
   "metadata": {},
   "outputs": [
    {
     "data": {
      "text/plain": [
       "(91339812, 121496535)"
      ]
     },
     "execution_count": 22,
     "metadata": {},
     "output_type": "execute_result"
    }
   ],
   "source": [
    "model.train(reviewText, total_examples=model.corpus_count, epochs=model.epochs)"
   ]
  },
  {
   "cell_type": "code",
   "execution_count": 28,
   "id": "f2a2371d-c06c-4958-b24c-4f0917a15f5e",
   "metadata": {},
   "outputs": [
    {
     "data": {
      "text/plain": [
       "[('horrible', 0.7165519595146179),\n",
       " ('terrible', 0.6637130379676819),\n",
       " ('ugly', 0.6292848587036133),\n",
       " ('overwhelming', 0.613959014415741),\n",
       " ('horrendous', 0.5657137632369995),\n",
       " ('unpleasant', 0.5609869956970215),\n",
       " ('oversight', 0.5542334914207458),\n",
       " ('overpowering', 0.5478020906448364),\n",
       " ('funny', 0.5437840819358826),\n",
       " ('authentic', 0.5415761470794678)]"
      ]
     },
     "execution_count": 28,
     "metadata": {},
     "output_type": "execute_result"
    }
   ],
   "source": [
    "model.wv.most_similar(\"awful\")"
   ]
  },
  {
   "cell_type": "code",
   "execution_count": 26,
   "id": "dccfe667-70c6-451e-a4e3-459120e7a1d4",
   "metadata": {},
   "outputs": [
    {
     "data": {
      "text/plain": [
       "0.7856662"
      ]
     },
     "execution_count": 26,
     "metadata": {},
     "output_type": "execute_result"
    }
   ],
   "source": [
    "model.wv.similarity(w1=\"great\", w2=\"good\")"
   ]
  },
  {
   "cell_type": "code",
   "execution_count": 27,
   "id": "85c77288-b282-4552-96e1-e3eb5789dab7",
   "metadata": {},
   "outputs": [
    {
     "data": {
      "text/plain": [
       "0.370677"
      ]
     },
     "execution_count": 27,
     "metadata": {},
     "output_type": "execute_result"
    }
   ],
   "source": [
    "model.wv.similarity(w1=\"slow\", w2=\"steady\")\n"
   ]
  },
  {
   "cell_type": "code",
   "execution_count": null,
   "id": "1f380506-ce86-4aa4-8288-ce3505ca024e",
   "metadata": {},
   "outputs": [],
   "source": []
  }
 ],
 "metadata": {
  "kernelspec": {
   "display_name": "Python 3 (ipykernel)",
   "language": "python",
   "name": "python3"
  },
  "language_info": {
   "codemirror_mode": {
    "name": "ipython",
    "version": 3
   },
   "file_extension": ".py",
   "mimetype": "text/x-python",
   "name": "python",
   "nbconvert_exporter": "python",
   "pygments_lexer": "ipython3",
   "version": "3.11.8"
  }
 },
 "nbformat": 4,
 "nbformat_minor": 5
}
