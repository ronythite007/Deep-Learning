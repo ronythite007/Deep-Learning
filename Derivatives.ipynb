{
 "cells": [
  {
   "cell_type": "markdown",
   "id": "a588a4b6-bf19-4667-abb7-eabcb904af03",
   "metadata": {},
   "source": [
    "https://www.mathsisfun.com/calculus/derivatives-introduction.html"
   ]
  },
  {
   "cell_type": "markdown",
   "id": "d3194627-358a-49cf-a123-0906b1d58a17",
   "metadata": {},
   "source": [
    "Access the above link ,here all things are explained in better way....."
   ]
  }
 ],
 "metadata": {
  "kernelspec": {
   "display_name": "Python 3 (ipykernel)",
   "language": "python",
   "name": "python3"
  },
  "language_info": {
   "codemirror_mode": {
    "name": "ipython",
    "version": 3
   },
   "file_extension": ".py",
   "mimetype": "text/x-python",
   "name": "python",
   "nbconvert_exporter": "python",
   "pygments_lexer": "ipython3",
   "version": "3.8.10"
  }
 },
 "nbformat": 4,
 "nbformat_minor": 5
}
