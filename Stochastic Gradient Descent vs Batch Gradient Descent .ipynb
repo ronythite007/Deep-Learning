{
 "cells": [
  {
   "cell_type": "markdown",
   "id": "0686c4db-9cc4-47ab-a1d0-25d6f3375872",
   "metadata": {},
   "source": [
    "# Stochastic Gradient Descent vs Batch Gradient Descent "
   ]
  },
  {
   "cell_type": "markdown",
   "id": "50fd6710-689c-4581-b77e-9cbea6041afb",
   "metadata": {},
   "source": [
    "Gradient Decent is an optimization algorithm that often use to train nural network & machine learning "
   ]
  },
  {
   "cell_type": "markdown",
   "id": "018ffe1f-0daf-4788-817b-a3e017bab756",
   "metadata": {},
   "source": [
    "It works by finding the best weight and biase for a model by minimizing the error between preidicted & actual value"
   ]
  },
  {
   "cell_type": "code",
   "execution_count": 4,
   "id": "a57bab5a-2801-404c-a1e2-3397342d1b20",
   "metadata": {},
   "outputs": [],
   "source": [
    "import pandas as pd\n",
    "import numpy as np"
   ]
  },
  {
   "cell_type": "code",
   "execution_count": 5,
   "id": "6f9bdfff-c8da-43e6-9ac2-0c32bc400fbc",
   "metadata": {},
   "outputs": [
    {
     "data": {
      "text/html": [
       "<div>\n",
       "<style scoped>\n",
       "    .dataframe tbody tr th:only-of-type {\n",
       "        vertical-align: middle;\n",
       "    }\n",
       "\n",
       "    .dataframe tbody tr th {\n",
       "        vertical-align: top;\n",
       "    }\n",
       "\n",
       "    .dataframe thead th {\n",
       "        text-align: right;\n",
       "    }\n",
       "</style>\n",
       "<table border=\"1\" class=\"dataframe\">\n",
       "  <thead>\n",
       "    <tr style=\"text-align: right;\">\n",
       "      <th></th>\n",
       "      <th>area</th>\n",
       "      <th>bedrooms</th>\n",
       "      <th>price</th>\n",
       "    </tr>\n",
       "  </thead>\n",
       "  <tbody>\n",
       "    <tr>\n",
       "      <th>0</th>\n",
       "      <td>1056</td>\n",
       "      <td>2</td>\n",
       "      <td>39.07</td>\n",
       "    </tr>\n",
       "    <tr>\n",
       "      <th>1</th>\n",
       "      <td>2600</td>\n",
       "      <td>4</td>\n",
       "      <td>120.00</td>\n",
       "    </tr>\n",
       "    <tr>\n",
       "      <th>2</th>\n",
       "      <td>1440</td>\n",
       "      <td>3</td>\n",
       "      <td>62.00</td>\n",
       "    </tr>\n",
       "    <tr>\n",
       "      <th>3</th>\n",
       "      <td>1521</td>\n",
       "      <td>3</td>\n",
       "      <td>75.00</td>\n",
       "    </tr>\n",
       "    <tr>\n",
       "      <th>4</th>\n",
       "      <td>1200</td>\n",
       "      <td>2</td>\n",
       "      <td>51.00</td>\n",
       "    </tr>\n",
       "  </tbody>\n",
       "</table>\n",
       "</div>"
      ],
      "text/plain": [
       "   area  bedrooms   price\n",
       "0  1056         2   39.07\n",
       "1  2600         4  120.00\n",
       "2  1440         3   62.00\n",
       "3  1521         3   75.00\n",
       "4  1200         2   51.00"
      ]
     },
     "execution_count": 5,
     "metadata": {},
     "output_type": "execute_result"
    }
   ],
   "source": [
    "df = pd.read_csv(\"homeprices_banglore.csv\")\n",
    "df.head()"
   ]
  },
  {
   "cell_type": "code",
   "execution_count": 6,
   "id": "49259c57-e319-418d-baf8-a52e07819557",
   "metadata": {},
   "outputs": [],
   "source": [
    "from sklearn import preprocessing\n",
    "\n",
    "sx=preprocessing.MinMaxScaler()\n",
    "sy=preprocessing.MinMaxScaler()"
   ]
  },
  {
   "cell_type": "code",
   "execution_count": 7,
   "id": "7b664735-7b0d-448e-88c6-edb475c4715a",
   "metadata": {},
   "outputs": [
    {
     "data": {
      "text/plain": [
       "array([[0.08827586, 0.25      ],\n",
       "       [0.62068966, 0.75      ],\n",
       "       [0.22068966, 0.5       ],\n",
       "       [0.24862069, 0.5       ],\n",
       "       [0.13793103, 0.25      ],\n",
       "       [0.12758621, 0.25      ],\n",
       "       [0.6662069 , 0.75      ],\n",
       "       [0.86206897, 0.75      ],\n",
       "       [0.17586207, 0.5       ],\n",
       "       [1.        , 1.        ],\n",
       "       [0.34482759, 0.5       ],\n",
       "       [0.68448276, 0.75      ],\n",
       "       [0.06896552, 0.25      ],\n",
       "       [0.10344828, 0.25      ],\n",
       "       [0.5       , 0.5       ],\n",
       "       [0.12931034, 0.25      ],\n",
       "       [0.13103448, 0.5       ],\n",
       "       [0.25517241, 0.5       ],\n",
       "       [0.67931034, 0.5       ],\n",
       "       [0.        , 0.        ]])"
      ]
     },
     "execution_count": 7,
     "metadata": {},
     "output_type": "execute_result"
    }
   ],
   "source": [
    "x_scaled = sx.fit_transform(df.drop('price',axis='columns'))\n",
    "x_scaled"
   ]
  },
  {
   "cell_type": "code",
   "execution_count": 8,
   "id": "d3ffa4d4-54f4-440a-a789-ad945b09b760",
   "metadata": {},
   "outputs": [
    {
     "data": {
      "text/plain": [
       "array([[0.05237037],\n",
       "       [0.65185185],\n",
       "       [0.22222222],\n",
       "       [0.31851852],\n",
       "       [0.14074074],\n",
       "       [0.04444444],\n",
       "       [0.76296296],\n",
       "       [0.91111111],\n",
       "       [0.13333333],\n",
       "       [1.        ],\n",
       "       [0.37037037],\n",
       "       [0.8       ],\n",
       "       [0.04444444],\n",
       "       [0.05925926],\n",
       "       [0.51111111],\n",
       "       [0.07407407],\n",
       "       [0.11851852],\n",
       "       [0.20740741],\n",
       "       [0.51851852],\n",
       "       [0.        ]])"
      ]
     },
     "execution_count": 8,
     "metadata": {},
     "output_type": "execute_result"
    }
   ],
   "source": [
    "y_scaled = sy.fit_transform(df['price'].values.reshape(df.shape[0],1))\n",
    "y_scaled"
   ]
  },
  {
   "cell_type": "code",
   "execution_count": 9,
   "id": "0adaad55-1cf4-4448-8a3a-1dc7cb4848b4",
   "metadata": {},
   "outputs": [
    {
     "data": {
      "text/plain": [
       "(array([0.70712464, 0.67456527]), -0.23034857438407427, 0.0068641890429808105)"
      ]
     },
     "execution_count": 9,
     "metadata": {},
     "output_type": "execute_result"
    }
   ],
   "source": [
    "def gradient_decent(x,y_true,epoch,learning_rate =0.01):\n",
    "    number_of_features = x.shape[1]\n",
    "\n",
    "    w = np.ones(shape=(number_of_features))\n",
    "    b = 0 #-------> intializing with 0 & 1\n",
    "\n",
    "    total_sample = x.shape[0]\n",
    "\n",
    "    cost_list = []\n",
    "    epoch_list = []\n",
    "\n",
    "    for i in range(epoch):\n",
    "        y_predict = np.dot(w,x_scaled.T) + b\n",
    "\n",
    "        # Finding the derivative\n",
    "        w_gard = -(2/total_sample)*(x.T.dot(y_true-y_predict))\n",
    "        b_gard = -(2/total_sample)*np.sum(y_true-y_predict)\n",
    "\n",
    "        w = w - learning_rate * w_gard\n",
    "        b = b- learning_rate * b_gard\n",
    "\n",
    "        cost = np.mean(np.square(y_true - y_predict))\n",
    "\n",
    "    if i%10==0:\n",
    "        cost_list.append(cost)\n",
    "        epoch_list.append(i)\n",
    "\n",
    "    return w, b, cost, cost_list, epoch_list\n",
    "\n",
    "w, b, cost, cost_list, epoch_list = gradient_decent(x_scaled,y_scaled.reshape(y_scaled.shape[0],),500)\n",
    "w, b, cost"
   ]
  },
  {
   "attachments": {
    "529f6cfc-af75-408f-8bb9-4d20d9f99354.png": {
     "image/png": "[encoded data removed]"
    }
   },
   "cell_type": "markdown",
   "id": "13f1f94c-252b-48a4-8f11-516a0279d468",
   "metadata": {},
   "source": [
    "![Screenshot 2024-08-22 213755.png](attachment:529f6cfc-af75-408f-8bb9-4d20d9f99354.png)"
   ]
  },
  {
   "cell_type": "code",
   "execution_count": 10,
   "id": "5bb7c29c-9e98-4505-90fc-eff58b7ca52c",
   "metadata": {},
   "outputs": [],
   "source": [
    "def predict(x,y,w,b):\n",
    "\n",
    "    scaled_x = sx.transform([[x, y]])[0]  # the user inputs should be conerted in range of  0 to 1\n",
    "\n",
    "    predicted = w[0] * scaled_x[0] + w[1] * scaled_x[1] + b\n",
    "\n",
    "    return sy.inverse_transform([[predicted]])[0][0]"
   ]
  },
  {
   "cell_type": "code",
   "execution_count": 11,
   "id": "3c921b9c-8d4d-48ed-8655-eeb2fe4f9113",
   "metadata": {},
   "outputs": [
    {
     "name": "stderr",
     "output_type": "stream",
     "text": [
      "C:\\Users\\Rohan\\AppData\\Local\\Packages\\PythonSoftwareFoundation.Python.3.8_qbz5n2kfra8p0\\LocalCache\\local-packages\\Python38\\site-packages\\sklearn\\base.py:465: UserWarning: X does not have valid feature names, but MinMaxScaler was fitted with feature names\n",
      "  warnings.warn(\n"
     ]
    },
    {
     "data": {
      "text/plain": [
       "32.0964952553193"
      ]
     },
     "execution_count": 11,
     "metadata": {},
     "output_type": "execute_result"
    }
   ],
   "source": [
    "predict(1056,2,w,b)"
   ]
  },
  {
   "cell_type": "code",
   "execution_count": 12,
   "id": "e8bdc2a3-d137-467a-933d-ac4dce2489dc",
   "metadata": {},
   "outputs": [
    {
     "name": "stderr",
     "output_type": "stream",
     "text": [
      "C:\\Users\\Rohan\\AppData\\Local\\Packages\\PythonSoftwareFoundation.Python.3.8_qbz5n2kfra8p0\\LocalCache\\local-packages\\Python38\\site-packages\\sklearn\\base.py:465: UserWarning: X does not have valid feature names, but MinMaxScaler was fitted with feature names\n",
      "  warnings.warn(\n"
     ]
    },
    {
     "data": {
      "text/plain": [
       "128.45484403267596"
      ]
     },
     "execution_count": 12,
     "metadata": {},
     "output_type": "execute_result"
    }
   ],
   "source": [
    "predict(2600,4,w,b)\n"
   ]
  },
  {
   "cell_type": "markdown",
   "id": "c0e62c3b-bbf4-4ce8-a5d4-f8473f8759ff",
   "metadata": {},
   "source": [
    "# (2) Stochastic Gradient Descent Implementation"
   ]
  },
  {
   "cell_type": "markdown",
   "id": "384d620a-481d-4ac9-bfb9-00e293ab0947",
   "metadata": {},
   "source": [
    "Stochastic GD will use randomly picked single training sample to calculate error and using this error we backpropage to adjust weights"
   ]
  },
  {
   "cell_type": "code",
   "execution_count": 13,
   "id": "9296d813-735c-435d-bd69-16be23e85a47",
   "metadata": {},
   "outputs": [
    {
     "name": "stdout",
     "output_type": "stream",
     "text": [
      "[0.86940668 0.84302677] -0.25068651133322556 0.03366290489114773\n"
     ]
    }
   ],
   "source": [
    "import random\n",
    "def SGD(x, y_true, epoch, learning_rate=0.01):\n",
    "    number_of_features = x.shape[1]\n",
    "    w = np.ones(shape=(number_of_features))\n",
    "    b = 0  # Initializing with 0\n",
    "\n",
    "    total_samples = x.shape[0]\n",
    "\n",
    "    cost_list = []\n",
    "    epoch_list = []\n",
    "\n",
    "    for i in range(epoch):\n",
    "        random_index = random.randint(0, total_samples - 1)  # random index from total samples\n",
    "        sample_x = x[random_index]\n",
    "        sample_y = y_true[random_index]\n",
    "\n",
    "        # Prediction\n",
    "        y_predict = np.dot(w, sample_x) + b\n",
    "\n",
    "        # Finding the derivative\n",
    "        w_grad = -(2 / total_samples) * (sample_x.T * (sample_y - y_predict))\n",
    "        b_grad = -(2 / total_samples) * (sample_y - y_predict)\n",
    "\n",
    "        # Updating weights and bias\n",
    "        w = w - learning_rate * w_grad\n",
    "        b = b - learning_rate * b_grad\n",
    "\n",
    "        # Cost calculation\n",
    "        cost = np.mean(np.square(y_true - (np.dot(x, w) + b)))\n",
    "\n",
    "        if i % 10 == 0:\n",
    "            cost_list.append(cost)\n",
    "            epoch_list.append(i)\n",
    "\n",
    "    return w, b, cost, cost_list, epoch_list\n",
    "\n",
    "# Example usage\n",
    "w_sgd, b_sgd, cost_sgd, cost_list_sgd, epoch_list_sgd = SGD(x_scaled, y_scaled.reshape(y_scaled.shape[0],), 1000)\n",
    "print(w_sgd, b_sgd, cost_sgd)"
   ]
  },
  {
   "attachments": {
    "c1eb52be-792f-404d-8cc5-e8f1022fb801.png": {
     "image/png": "[encoded data removed]"
    }
   },
   "cell_type": "markdown",
   "id": "b7560437-a945-43f6-997c-e1cc65d67e8d",
   "metadata": {},
   "source": [
    "![Screenshot 2024-08-22 213804.png](attachment:c1eb52be-792f-404d-8cc5-e8f1022fb801.png)"
   ]
  },
  {
   "cell_type": "code",
   "execution_count": 14,
   "id": "fc34bef5-80dc-4869-91ee-9c971061a98d",
   "metadata": {},
   "outputs": [
    {
     "name": "stderr",
     "output_type": "stream",
     "text": [
      "C:\\Users\\Rohan\\AppData\\Local\\Packages\\PythonSoftwareFoundation.Python.3.8_qbz5n2kfra8p0\\LocalCache\\local-packages\\Python38\\site-packages\\sklearn\\base.py:465: UserWarning: X does not have valid feature names, but MinMaxScaler was fitted with feature names\n",
      "  warnings.warn(\n"
     ]
    },
    {
     "data": {
      "text/plain": [
       "34.703950262369084"
      ]
     },
     "execution_count": 14,
     "metadata": {},
     "output_type": "execute_result"
    }
   ],
   "source": [
    "predict(1000,2,w_sgd, b_sgd)"
   ]
  },
  {
   "cell_type": "markdown",
   "id": "22bb4d1a-62cb-46bc-af24-56c128b86e81",
   "metadata": {},
   "source": [
    "# Minibatch Gradient Descent "
   ]
  },
  {
   "cell_type": "markdown",
   "id": "6e6f83a6-dd8d-4a18-98ba-d2e02c706128",
   "metadata": {},
   "source": [
    "Minibatch Gradient Descent operates by dividing the dataset into small batches, called minibatches, and computes the gradient of the loss function for each minibatch. The model parameters are then updated based on the average gradient from these minibatches. This approach combines the advantages of both batch and stochastic gradient descent"
   ]
  },
  {
   "cell_type": "code",
   "execution_count": 15,
   "id": "523a0925-04ef-489d-a3ae-91a031df3e3b",
   "metadata": {},
   "outputs": [
    {
     "name": "stdout",
     "output_type": "stream",
     "text": [
      "[1, 2, 3, 4, 5]\n",
      "[6, 7, 8, 9, 9]\n",
      "[1, 21, 31, 41, 12]\n",
      "[15, 16, 15, 67, 45]\n"
     ]
    }
   ],
   "source": [
    "arr=[1,2,3,4,5,6,7,8,9,9,1,21,31,41,12,15,16,15,67,45]\n",
    "l=len(arr)\n",
    "batch =5\n",
    "for i in range(0,l,batch):\n",
    "    print(arr[i:i+batch])"
   ]
  },
  {
   "cell_type": "code",
   "execution_count": 17,
   "id": "c945a6e6-e0e7-4868-afc1-8f2bd420619d",
   "metadata": {},
   "outputs": [
    {
     "data": {
      "text/plain": [
       "array([3, 8, 2, 1, 9, 4, 6, 0, 5, 7])"
      ]
     },
     "execution_count": 17,
     "metadata": {},
     "output_type": "execute_result"
    }
   ],
   "source": [
    "permutation = np.random.permutation(10)\n",
    "permutation"
   ]
  },
  {
   "cell_type": "code",
   "execution_count": 19,
   "id": "9a4b4ac1-f2dc-4a6b-a236-37cd19c23ca7",
   "metadata": {},
   "outputs": [
    {
     "data": {
      "text/plain": [
       "(array([0.70712464, 0.67456527]), -0.23034857438407422, 0.006864189042980809)"
      ]
     },
     "execution_count": 19,
     "metadata": {},
     "output_type": "execute_result"
    }
   ],
   "source": [
    "def min_gradient_decent(x,y_true,epoch,learning_rate =0.01,batch_size = 32):\n",
    "    number_of_features = x.shape[1]\n",
    "\n",
    "    w = np.ones(shape=(number_of_features))\n",
    "    b = 0 #-------> intializing with 0 & 1\n",
    "\n",
    "    total_sample = x.shape[0]\n",
    "\n",
    "    cost_list = []\n",
    "    epoch_list = []\n",
    "\n",
    "    for i in range(epoch):\n",
    "        indices = np.random.permutation(total_sample)\n",
    "        x_shuffled  = x[indices]\n",
    "        y_shuffled  = y_true[indices]\n",
    "\n",
    "        for i in range(0,total_sample,batch_size):\n",
    "            x_batch = x_shuffled[i:i+batch_size]\n",
    "            y_batch = y_shuffled[i:i+batch_size]\n",
    "            \n",
    "            y_predict = np.dot(w,x_batch.T) + b\n",
    "    \n",
    "            # Finding the derivative\n",
    "            w_gard = -(2/total_sample)*(x_batch.T.dot(y_batch-y_predict))\n",
    "            b_gard = -(2/total_sample)*np.sum(y_batch-y_predict)\n",
    "    \n",
    "            w = w - learning_rate * w_gard\n",
    "            b = b- learning_rate * b_gard\n",
    "    \n",
    "            cost = np.mean(np.square(y_batch - y_predict))\n",
    "    \n",
    "            if i%10==0:\n",
    "                cost_list.append(cost)\n",
    "                epoch_list.append(i)\n",
    "\n",
    "    return w, b, cost, cost_list, epoch_list\n",
    "\n",
    "w_min, b_min, cost_min, cost_list_min, epoch_list_min = min_gradient_decent(x_scaled,y_scaled.reshape(y_scaled.shape[0],),500)\n",
    "w_min, b_min, cost_min"
   ]
  },
  {
   "cell_type": "code",
   "execution_count": 25,
   "id": "9c228e2a-562a-49dc-a50f-9b7efe1cd883",
   "metadata": {},
   "outputs": [
    {
     "data": {
      "text/plain": [
       "[<matplotlib.lines.Line2D at 0x247a25cbc40>]"
      ]
     },
     "execution_count": 25,
     "metadata": {},
     "output_type": "execute_result"
    },
    {
     "data": {
      "image/png": "[encoded data removed]",
      "text/plain": [
       "<Figure size 640x480 with 1 Axes>"
      ]
     },
     "metadata": {},
     "output_type": "display_data"
    }
   ],
   "source": [
    "import matplotlib.pyplot as plt\n",
    "plt.xlabel(\"epoch\")\n",
    "plt.ylabel(\"cost\")\n",
    "plt.plot(epoch_list_min,cost_list_min)"
   ]
  },
  {
   "cell_type": "code",
   "execution_count": 20,
   "id": "cd39fd49-3ad6-44cc-98f9-8cde1365f8da",
   "metadata": {},
   "outputs": [
    {
     "name": "stderr",
     "output_type": "stream",
     "text": [
      "C:\\Users\\Rohan\\AppData\\Local\\Packages\\PythonSoftwareFoundation.Python.3.8_qbz5n2kfra8p0\\LocalCache\\local-packages\\Python38\\site-packages\\sklearn\\base.py:465: UserWarning: X does not have valid feature names, but MinMaxScaler was fitted with feature names\n",
      "  warnings.warn(\n"
     ]
    },
    {
     "data": {
      "text/plain": [
       "30.253094462442363"
      ]
     },
     "execution_count": 20,
     "metadata": {},
     "output_type": "execute_result"
    }
   ],
   "source": [
    "predict(1000,2,w_min, b_min)"
   ]
  },
  {
   "cell_type": "code",
   "execution_count": 22,
   "id": "bf048794-ec37-4e0f-9db1-1d647fe97b99",
   "metadata": {},
   "outputs": [
    {
     "name": "stderr",
     "output_type": "stream",
     "text": [
      "C:\\Users\\Rohan\\AppData\\Local\\Packages\\PythonSoftwareFoundation.Python.3.8_qbz5n2kfra8p0\\LocalCache\\local-packages\\Python38\\site-packages\\sklearn\\base.py:465: UserWarning: X does not have valid feature names, but MinMaxScaler was fitted with feature names\n",
      "  warnings.warn(\n"
     ]
    },
    {
     "data": {
      "text/plain": [
       "128.45484403267596"
      ]
     },
     "execution_count": 22,
     "metadata": {},
     "output_type": "execute_result"
    }
   ],
   "source": [
    "predict(2600,4,w_min, b_min)"
   ]
  },
  {
   "cell_type": "code",
   "execution_count": 26,
   "id": "05a4e6ff-96c2-4182-8044-e04a10cfeb6e",
   "metadata": {},
   "outputs": [
    {
     "name": "stderr",
     "output_type": "stream",
     "text": [
      "C:\\Users\\Rohan\\AppData\\Local\\Packages\\PythonSoftwareFoundation.Python.3.8_qbz5n2kfra8p0\\LocalCache\\local-packages\\Python38\\site-packages\\sklearn\\base.py:465: UserWarning: X does not have valid feature names, but MinMaxScaler was fitted with feature names\n",
      "  warnings.warn(\n"
     ]
    },
    {
     "data": {
      "text/plain": [
       "69.47860785714694"
      ]
     },
     "execution_count": 26,
     "metadata": {},
     "output_type": "execute_result"
    }
   ],
   "source": [
    "predict(1500,3,w_min, b_min)"
   ]
  }
 ],
 "metadata": {
  "kernelspec": {
   "display_name": "Python 3 (ipykernel)",
   "language": "python",
   "name": "python3"
  },
  "language_info": {
   "codemirror_mode": {
    "name": "ipython",
    "version": 3
   },
   "file_extension": ".py",
   "mimetype": "text/x-python",
   "name": "python",
   "nbconvert_exporter": "python",
   "pygments_lexer": "ipython3",
   "version": "3.8.10"
  }
 },
 "nbformat": 4,
 "nbformat_minor": 5
}
