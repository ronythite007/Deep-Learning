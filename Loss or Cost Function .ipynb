{
 "cells": [
  {
   "cell_type": "markdown",
   "id": "2699b2ab-c25c-4766-aeb9-33df54952714",
   "metadata": {},
   "source": [
    "# Loss or Cost Function (For better understanding how it works)"
   ]
  },
  {
   "cell_type": "markdown",
   "id": "0b13e5df-f790-491b-ae64-937f9745b08c",
   "metadata": {},
   "source": [
    "#### The loss function is to capture the difference between the actual and predicted values for a single record whereas cost functions aggregate the difference for the entire training dataset. The Most commonly used loss functions are Mean-squared error and Hinge loss."
   ]
  },
  {
   "cell_type": "code",
   "execution_count": 1,
   "id": "3d446ba4-487e-499e-a5d4-188f6feb34aa",
   "metadata": {},
   "outputs": [],
   "source": [
    "import numpy as np"
   ]
  },
  {
   "cell_type": "code",
   "execution_count": 7,
   "id": "a52eec50-14a0-402f-a8b5-a08c97433c22",
   "metadata": {},
   "outputs": [],
   "source": [
    "y_predicted = np.array([1,1,0,0,1])\n",
    "y_true = np.array([0.30,0.7,1,0,0.5])"
   ]
  },
  {
   "cell_type": "markdown",
   "id": "c00d3bbb-9e41-4413-a568-3c5a6523cb53",
   "metadata": {},
   "source": [
    "## Implement Mean Absolute Error"
   ]
  },
  {
   "cell_type": "code",
   "execution_count": 10,
   "id": "0526fc0d-2434-49e7-81a0-5ffba96a8d99",
   "metadata": {},
   "outputs": [],
   "source": [
    "def mae(y_true,y_predicted):\n",
    "    total_error = 0\n",
    "    for yt ,yp in zip(y_true,y_predicted):\n",
    "        print(yt,yp)"
   ]
  },
  {
   "cell_type": "code",
   "execution_count": 11,
   "id": "0b99216c-3967-4ad6-82c8-2bd6f4a58a31",
   "metadata": {},
   "outputs": [
    {
     "name": "stdout",
     "output_type": "stream",
     "text": [
      "0.3 1\n",
      "0.7 1\n",
      "1.0 0\n",
      "0.0 0\n",
      "0.5 1\n"
     ]
    }
   ],
   "source": [
    "mae(y_true,y_predicted)"
   ]
  },
  {
   "cell_type": "code",
   "execution_count": 25,
   "id": "6df55753-c608-4c8e-803e-420752071300",
   "metadata": {},
   "outputs": [],
   "source": [
    "def mae(y_true,y_predicted):\n",
    "    total_error = 0\n",
    "    for yt ,yp in zip(y_true,y_predicted):\n",
    "        total_error +=abs(yt - yp)\n",
    "        mean = total_error /len(y_true)\n",
    "        print(\"Total Error : \",total_error)\n",
    "        print(\"MAE : \",mean)"
   ]
  },
  {
   "cell_type": "code",
   "execution_count": 26,
   "id": "223761d1-7c33-4225-baf6-6357d6591a9e",
   "metadata": {},
   "outputs": [
    {
     "name": "stdout",
     "output_type": "stream",
     "text": [
      "Total Error :  0.7\n",
      "MAE :  0.13999999999999999\n",
      "Total Error :  1.0\n",
      "MAE :  0.2\n",
      "Total Error :  2.0\n",
      "MAE :  0.4\n",
      "Total Error :  2.0\n",
      "MAE :  0.4\n",
      "Total Error :  2.5\n",
      "MAE :  0.5\n"
     ]
    }
   ],
   "source": [
    "mae(y_true,y_predicted)"
   ]
  },
  {
   "cell_type": "markdown",
   "id": "8173f6aa-3427-42e7-b0da-14a64539632d",
   "metadata": {},
   "source": [
    "## Implement same thing using numpy in much easier way"
   ]
  },
  {
   "cell_type": "code",
   "execution_count": 28,
   "id": "4f47da8e-f5c4-4ce2-aa07-1e9f23376fe5",
   "metadata": {},
   "outputs": [
    {
     "data": {
      "text/plain": [
       "array([0.7, 0.3, 1. , 0. , 0.5])"
      ]
     },
     "execution_count": 28,
     "metadata": {},
     "output_type": "execute_result"
    }
   ],
   "source": [
    "np.abs(y_true - y_predicted)"
   ]
  },
  {
   "cell_type": "code",
   "execution_count": 27,
   "id": "102e01ca-829f-47fd-8a1f-3eee1909e1e5",
   "metadata": {},
   "outputs": [
    {
     "data": {
      "text/plain": [
       "0.5"
      ]
     },
     "execution_count": 27,
     "metadata": {},
     "output_type": "execute_result"
    }
   ],
   "source": [
    "np.mean(np.abs(y_true - y_predicted))"
   ]
  },
  {
   "cell_type": "markdown",
   "id": "6dd873b6-c45b-4ce5-942d-618fc853da0c",
   "metadata": {},
   "source": [
    "## Implement Log Loss or Binary Cross Entropy"
   ]
  },
  {
   "cell_type": "code",
   "execution_count": 35,
   "id": "dd85dfbe-25e5-40c5-8bc5-f1430e00102d",
   "metadata": {},
   "outputs": [
    {
     "data": {
      "text/plain": [
       "[1, 1, 1e-15, 1e-15, 1]"
      ]
     },
     "execution_count": 35,
     "metadata": {},
     "output_type": "execute_result"
    }
   ],
   "source": [
    "# here will convert 1 ---> the no. close to one -->0.99999999 and 0 -->0.0000000001\n",
    "\n",
    "epsilon = 1e-15\n",
    "y_predicted_new = [max(i,epsilon) for i in y_predicted]\n",
    "y_predicted_new"
   ]
  },
  {
   "cell_type": "code",
   "execution_count": 36,
   "id": "5c7af088-cfe5-4af4-8119-a2df7ddb4379",
   "metadata": {},
   "outputs": [
    {
     "data": {
      "text/plain": [
       "[0.999999999999999, 0.999999999999999, 1e-15, 1e-15, 0.999999999999999]"
      ]
     },
     "execution_count": 36,
     "metadata": {},
     "output_type": "execute_result"
    }
   ],
   "source": [
    "y_predicted_new = [min(i,1-epsilon) for i in y_predicted_new]\n",
    "y_predicted_new"
   ]
  },
  {
   "cell_type": "code",
   "execution_count": 37,
   "id": "fbfffddb-54b5-42aa-aeee-61f3a958ad09",
   "metadata": {},
   "outputs": [
    {
     "data": {
      "text/plain": [
       "array([-9.99200722e-16, -9.99200722e-16, -3.45387764e+01, -3.45387764e+01,\n",
       "       -9.99200722e-16])"
      ]
     },
     "execution_count": 37,
     "metadata": {},
     "output_type": "execute_result"
    }
   ],
   "source": [
    "np.log(y_predicted_new)"
   ]
  },
  {
   "cell_type": "code",
   "execution_count": 43,
   "id": "4ab9c542-e26b-4bcb-99c9-063eb329800b",
   "metadata": {},
   "outputs": [],
   "source": [
    "y_predicted_new_1=np.array(y_predicted_new)"
   ]
  },
  {
   "cell_type": "code",
   "execution_count": 44,
   "id": "b29891db-cb6b-479a-a285-5f1d03c93461",
   "metadata": {},
   "outputs": [
    {
     "data": {
      "text/plain": [
       "17.2696280766844"
      ]
     },
     "execution_count": 44,
     "metadata": {},
     "output_type": "execute_result"
    }
   ],
   "source": [
    "-np.mean(y_true*np.log(y_predicted_new_1)+(1-y_true)*np.log(1-y_predicted_new_1))"
   ]
  },
  {
   "cell_type": "code",
   "execution_count": 45,
   "id": "6063fe59-b1ab-423b-b901-d8ec1a8270aa",
   "metadata": {},
   "outputs": [
    {
     "data": {
      "text/plain": [
       "17.2696280766844"
      ]
     },
     "execution_count": 45,
     "metadata": {},
     "output_type": "execute_result"
    }
   ],
   "source": [
    "def log_loss(y_true, y_predicted):\n",
    "    y_predicted_new = [max(i,epsilon) for i in y_predicted]\n",
    "    y_predicted_new = [min(i,1-epsilon) for i in y_predicted_new]\n",
    "    y_predicted_new_1 = np.array(y_predicted_new)\n",
    "    return -np.mean(y_true*np.log(y_predicted_new_1)+(1-y_true)*np.log(1-y_predicted_new_1))\n",
    "log_loss(y_true, y_predicted)"
   ]
  },
  {
   "cell_type": "markdown",
   "id": "3f725651-d598-484f-8609-4c99a9ce2979",
   "metadata": {},
   "source": [
    "### Exercise\n",
    "#### • Implement mean squared error (or MSE) in two ways,\n",
    "\n",
    "#### 1) Without using numpy (i.e. using plain python)\n",
    "\n",
    "#### 2) With the use of numpy"
   ]
  },
  {
   "cell_type": "code",
   "execution_count": 52,
   "id": "f4fa4803-db0c-46d8-8bb7-d46113271da5",
   "metadata": {},
   "outputs": [],
   "source": [
    "# Implement mean squared error (or MSE) in two ways,\n",
    "def mse(y_true,y_predicted):\n",
    "    total_error = 0\n",
    "    for yt ,yp in zip(y_true,y_predicted):\n",
    "        total_error +=abs(yt - yp)**2 #----> x^2\n",
    "        mean_squared = total_error /len(y_true)\n",
    "        print(\"Total Error : \",total_error)\n",
    "        print(\"MAE : \",mean_squared)\n"
   ]
  },
  {
   "cell_type": "code",
   "execution_count": 53,
   "id": "73398ce2-ffe8-49b1-9ff9-d300db4fd355",
   "metadata": {},
   "outputs": [
    {
     "name": "stdout",
     "output_type": "stream",
     "text": [
      "Total Error :  0.48999999999999994\n",
      "MAE :  0.09799999999999999\n",
      "Total Error :  0.58\n",
      "MAE :  0.11599999999999999\n",
      "Total Error :  1.58\n",
      "MAE :  0.316\n",
      "Total Error :  1.58\n",
      "MAE :  0.316\n",
      "Total Error :  1.83\n",
      "MAE :  0.366\n"
     ]
    }
   ],
   "source": [
    "mse(y_true,y_predicted)"
   ]
  },
  {
   "cell_type": "markdown",
   "id": "f3479b6d-8ce4-491b-9d5d-b624e17a2ba0",
   "metadata": {},
   "source": [
    "## MSE using numpy"
   ]
  },
  {
   "cell_type": "code",
   "execution_count": 54,
   "id": "75e9c4f6-6c75-41fd-86fb-fe4019ccabe4",
   "metadata": {},
   "outputs": [
    {
     "data": {
      "text/plain": [
       "array([0.7, 0.3, 1. , 0. , 0.5])"
      ]
     },
     "execution_count": 54,
     "metadata": {},
     "output_type": "execute_result"
    }
   ],
   "source": [
    "np.abs(y_true - y_predicted)"
   ]
  },
  {
   "cell_type": "code",
   "execution_count": 55,
   "id": "465e3a8f-3519-452c-922d-a071eb1418ff",
   "metadata": {},
   "outputs": [
    {
     "data": {
      "text/plain": [
       "0.366"
      ]
     },
     "execution_count": 55,
     "metadata": {},
     "output_type": "execute_result"
    }
   ],
   "source": [
    "np.mean(np.abs(y_true - y_predicted)**2)"
   ]
  }
 ],
 "metadata": {
  "kernelspec": {
   "display_name": "Python 3 (ipykernel)",
   "language": "python",
   "name": "python3"
  },
  "language_info": {
   "codemirror_mode": {
    "name": "ipython",
    "version": 3
   },
   "file_extension": ".py",
   "mimetype": "text/x-python",
   "name": "python",
   "nbconvert_exporter": "python",
   "pygments_lexer": "ipython3",
   "version": "3.8.10"
  }
 },
 "nbformat": 4,
 "nbformat_minor": 5
}
